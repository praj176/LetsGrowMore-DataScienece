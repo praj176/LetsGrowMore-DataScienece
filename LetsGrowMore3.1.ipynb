{
 "cells": [
  {
   "cell_type": "markdown",
   "id": "1256e66b",
   "metadata": {},
   "source": [
    "# Prajwal Bhandwalkar\n",
    "# LGM-VIP Data Science Internship Programme\n",
    "## ADVANCED LEVEL TASK-1\n",
    "## Name: Develop A Neural Network That Can Read Handwriting"
   ]
  },
  {
   "cell_type": "code",
   "execution_count": 5,
   "id": "30f334f5",
   "metadata": {},
   "outputs": [
    {
     "name": "stdout",
     "output_type": "stream",
     "text": [
      "Collecting kerasNote: you may need to restart the kernel to use updated packages.\n",
      "  Downloading keras-2.7.0-py2.py3-none-any.whl (1.3 MB)\n",
      "Installing collected packages: keras\n",
      "Successfully installed keras-2.7.0\n",
      "\n"
     ]
    }
   ],
   "source": [
    "pip install keras"
   ]
  },
  {
   "cell_type": "code",
   "execution_count": null,
   "id": "e1fdbbf3",
   "metadata": {},
   "outputs": [],
   "source": [
    "import io # io Library used for various input and ouput operations\n",
    "import numpy as np # numpy library used doing various operations on arrays\n",
    "import tensorflow as tf\n",
    "from PIL import Image\n",
    "import pandas as pd # pandas library used for doing statstical calculations\n",
    "import seaborn as sb # seaborn library is also used to interpreting the data in variousgraphs\n",
    "import matplotlib.pyplot as plt # Matplotlib library is used for interpreting data in various graphs\n",
    "from keras.datasets import mnist  #the required dataset for this task"
   ]
  },
  {
   "cell_type": "code",
   "execution_count": 8,
   "id": "0a7bbb6d",
   "metadata": {},
   "outputs": [],
   "source": [
    "mnist = tf.keras.datasets.mnist\n",
    "(X_train, Y_train), (X_test, Y_test) = mnist.load_data()"
   ]
  },
  {
   "cell_type": "code",
   "execution_count": 10,
   "id": "2030e295",
   "metadata": {},
   "outputs": [
    {
     "data": {
      "image/png": "[encoded data removed]",
      "text/plain": [
       "<Figure size 432x288 with 1 Axes>"
      ]
     },
     "metadata": {
      "needs_background": "light"
     },
     "output_type": "display_data"
    }
   ],
   "source": [
    "plt.imshow(X_train[2],cmap=plt.cm.binary)\n",
    "plt.show()"
   ]
  },
  {
   "cell_type": "markdown",
   "id": "e1d37dea",
   "metadata": {},
   "source": [
    "### Normalizing X_train & X_test"
   ]
  },
  {
   "cell_type": "code",
   "execution_count": 12,
   "id": "8bd31fcc",
   "metadata": {},
   "outputs": [
    {
     "data": {
      "image/png": "[encoded data removed]",
      "text/plain": [
       "<Figure size 432x288 with 1 Axes>"
      ]
     },
     "metadata": {
      "needs_background": "light"
     },
     "output_type": "display_data"
    }
   ],
   "source": [
    "X_train = tf.keras.utils.normalize(X_train, axis = 1)\n",
    "X_test = tf.keras.utils.normalize(X_test, axis = 1)\n",
    "plt.imshow(X_train[2], cmap = plt.cm.binary)\n",
    "plt.show()"
   ]
  },
  {
   "cell_type": "markdown",
   "id": "8c92e550",
   "metadata": {},
   "source": [
    "# SEQUENTIAL MODEL: "
   ]
  },
  {
   "cell_type": "code",
   "execution_count": 15,
   "id": "ac6d8285",
   "metadata": {},
   "outputs": [
    {
     "name": "stdout",
     "output_type": "stream",
     "text": [
      "Epoch 1/15\n",
      "1875/1875 [==============================] - 6s 3ms/step - loss: 0.2636 - accuracy: 0.9232\n",
      "Epoch 2/15\n",
      "1875/1875 [==============================] - 6s 3ms/step - loss: 0.1075 - accuracy: 0.9665\n",
      "Epoch 3/15\n",
      "1875/1875 [==============================] - 6s 3ms/step - loss: 0.0712 - accuracy: 0.9771\n",
      "Epoch 4/15\n",
      "1875/1875 [==============================] - 6s 3ms/step - loss: 0.0541 - accuracy: 0.9826\n",
      "Epoch 5/15\n",
      "1875/1875 [==============================] - 6s 3ms/step - loss: 0.0403 - accuracy: 0.9868\n",
      "Epoch 6/15\n",
      "1875/1875 [==============================] - 6s 3ms/step - loss: 0.0319 - accuracy: 0.9895\n",
      "Epoch 7/15\n",
      "1875/1875 [==============================] - 6s 3ms/step - loss: 0.0252 - accuracy: 0.9920\n",
      "Epoch 8/15\n",
      "1875/1875 [==============================] - 6s 3ms/step - loss: 0.0209 - accuracy: 0.9927\n",
      "Epoch 9/15\n",
      "1875/1875 [==============================] - 6s 3ms/step - loss: 0.0175 - accuracy: 0.9939\n",
      "Epoch 10/15\n",
      "1875/1875 [==============================] - 6s 3ms/step - loss: 0.0143 - accuracy: 0.9952\n",
      "Epoch 11/15\n",
      "1875/1875 [==============================] - 6s 3ms/step - loss: 0.0150 - accuracy: 0.9949\n",
      "Epoch 12/15\n",
      "1875/1875 [==============================] - 6s 3ms/step - loss: 0.0127 - accuracy: 0.9957\n",
      "Epoch 13/15\n",
      "1875/1875 [==============================] - 6s 3ms/step - loss: 0.0100 - accuracy: 0.9963\n",
      "Epoch 14/15\n",
      "1875/1875 [==============================] - 6s 3ms/step - loss: 0.0120 - accuracy: 0.9962\n",
      "Epoch 15/15\n",
      "1875/1875 [==============================] - 6s 3ms/step - loss: 0.0092 - accuracy: 0.9968\n"
     ]
    },
    {
     "data": {
      "text/plain": [
       "<tensorflow.python.keras.callbacks.History at 0x1d181690340>"
      ]
     },
     "execution_count": 15,
     "metadata": {},
     "output_type": "execute_result"
    }
   ],
   "source": [
    "model = tf.keras.models.Sequential()\n",
    "model.add(tf.keras.layers.Flatten())\n",
    "model.add(tf.keras.layers.Dense(128, activation = tf.nn.relu))\n",
    "model.add(tf.keras.layers.Dense(128, activation = tf.nn.relu))\n",
    "model.add(tf.keras.layers.Dense(10, activation = tf.nn.softmax))\n",
    "model.compile(optimizer = 'adam', loss = 'sparse_categorical_crossentropy', metrics = ['accuracy'])\n",
    "model.fit(X_train,Y_train,epochs = 15)\n"
   ]
  },
  {
   "cell_type": "code",
   "execution_count": 17,
   "id": "f09ae573",
   "metadata": {},
   "outputs": [
    {
     "name": "stdout",
     "output_type": "stream",
     "text": [
      "313/313 [==============================] - 1s 2ms/step - loss: 0.1453 - accuracy: 0.9720\n",
      "0.1453179270029068 0.972000002861023\n"
     ]
    }
   ],
   "source": [
    "model_loss, model_accu = model.evaluate(X_test, Y_test)\n",
    "print(model_loss,model_accu)"
   ]
  },
  {
   "cell_type": "markdown",
   "id": "3c7c6937",
   "metadata": {},
   "source": [
    "# Prediction"
   ]
  },
  {
   "cell_type": "code",
   "execution_count": 19,
   "id": "57a3e659",
   "metadata": {},
   "outputs": [
    {
     "name": "stdout",
     "output_type": "stream",
     "text": [
      "[[2.7894575e-25 2.1045597e-15 2.9891019e-18 ... 1.0000000e+00\n",
      "  2.2950423e-19 2.2178407e-14]\n",
      " [7.8829955e-24 1.0033498e-10 1.0000000e+00 ... 3.1701426e-18\n",
      "  6.9425796e-19 5.3351696e-29]\n",
      " [2.8013933e-15 9.9999988e-01 2.8279318e-10 ... 1.1331133e-08\n",
      "  9.3273570e-08 2.5123003e-13]\n",
      " ...\n",
      " [2.5660436e-17 3.5425779e-12 2.1001349e-18 ... 2.3619665e-10\n",
      "  9.7615405e-12 1.3374098e-06]\n",
      " [3.0253529e-17 1.4713123e-21 9.0619034e-21 ... 3.8684246e-16\n",
      "  1.6206080e-07 9.6403126e-21]\n",
      " [5.4105215e-14 9.8472556e-16 2.0790403e-16 ... 7.5233705e-20\n",
      "  7.2482676e-15 7.5453083e-18]]\n"
     ]
    }
   ],
   "source": [
    "predicts = model.predict([X_test])\n",
    "print(predicts)"
   ]
  },
  {
   "cell_type": "code",
   "execution_count": 21,
   "id": "63cb62fc",
   "metadata": {},
   "outputs": [
    {
     "name": "stdout",
     "output_type": "stream",
     "text": [
      "1\n"
     ]
    }
   ],
   "source": [
    "print(np.argmax(predicts[2]))"
   ]
  },
  {
   "cell_type": "code",
   "execution_count": 22,
   "id": "fb8bbe92",
   "metadata": {},
   "outputs": [
    {
     "data": {
      "image/png": "[encoded data removed]",
      "text/plain": [
       "<Figure size 432x288 with 1 Axes>"
      ]
     },
     "metadata": {
      "needs_background": "light"
     },
     "output_type": "display_data"
    }
   ],
   "source": [
    "plt.imshow(X_test[2])\n",
    "plt.show()"
   ]
  }
 ],
 "metadata": {
  "kernelspec": {
   "display_name": "Python 3",
   "language": "python",
   "name": "python3"
  },
  "language_info": {
   "codemirror_mode": {
    "name": "ipython",
    "version": 3
   },
   "file_extension": ".py",
   "mimetype": "text/x-python",
   "name": "python",
   "nbconvert_exporter": "python",
   "pygments_lexer": "ipython3",
   "version": "3.8.8"
  }
 },
 "nbformat": 4,
 "nbformat_minor": 5
}
